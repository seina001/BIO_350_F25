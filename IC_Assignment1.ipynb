{
 "cells": [
  {
   "cell_type": "markdown",
   "id": "423261c8",
   "metadata": {},
   "source": [
    "Make a definition for a difference equation"
   ]
  },
  {
   "cell_type": "code",
   "execution_count": null,
   "id": "ab7a66a3",
   "metadata": {},
   "outputs": [
    {
     "ename": "",
     "evalue": "",
     "output_type": "error",
     "traceback": [
      "\u001b[1;31mRunning cells with '.conda (Python 3.11.13)' requires the ipykernel package.\n",
      "\u001b[1;31mInstall 'ipykernel' into the Python environment. \n",
      "\u001b[1;31mCommand: 'conda install -n .conda ipykernel --update-deps --force-reinstall'"
     ]
    }
   ],
   "source": [
    "def N_iterative(N_0, p, number_iterations):\n",
    "    N_values = [N_0]\n",
    "    current_N = N_0\n",
    "    for _ in range(number_iterations):\n",
    "        current_N = current_N + p\n",
    "        N_values.append(current_N)\n",
    "    return N_values\n",
    "    \n"
   ]
  },
  {
   "cell_type": "code",
   "execution_count": null,
   "id": "4928280c",
   "metadata": {},
   "outputs": [],
   "source": []
  }
 ],
 "metadata": {
  "kernelspec": {
   "display_name": ".conda",
   "language": "python",
   "name": "python3"
  },
  "language_info": {
   "name": "python",
   "version": "3.11.13"
  }
 },
 "nbformat": 4,
 "nbformat_minor": 5
}
