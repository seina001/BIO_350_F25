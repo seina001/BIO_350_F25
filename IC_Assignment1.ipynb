{
 "cells": [
  {
   "cell_type": "markdown",
   "id": "423261c8",
   "metadata": {},
   "source": [
    "Make a definition for a difference equation"
   ]
  },
  {
   "cell_type": "code",
   "execution_count": 1,
   "id": "ab7a66a3",
   "metadata": {},
   "outputs": [],
   "source": [
    "def N_iterative(N_0, p, number_iterations):\n",
    "    N_values = [N_0]\n",
    "    current_N = N_0\n",
    "    for _ in range(number_iterations):\n",
    "        current_N = current_N + p\n",
    "        N_values.append(current_N)\n",
    "    return N_values\n",
    "    \n"
   ]
  },
  {
   "cell_type": "code",
   "execution_count": null,
   "id": "4928280c",
   "metadata": {},
   "outputs": [],
   "source": []
  },
  {
   "cell_type": "code",
   "execution_count": null,
   "id": "f5144f25",
   "metadata": {},
   "outputs": [],
   "source": []
  }
 ],
 "metadata": {
  "kernelspec": {
   "display_name": "IC_assignment_1",
   "language": "python",
   "name": "python3"
  },
  "language_info": {
   "codemirror_mode": {
    "name": "ipython",
    "version": 3
   },
   "file_extension": ".py",
   "mimetype": "text/x-python",
   "name": "python",
   "nbconvert_exporter": "python",
   "pygments_lexer": "ipython3",
   "version": "3.13.5"
  }
 },
 "nbformat": 4,
 "nbformat_minor": 5
}
