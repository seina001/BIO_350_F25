{
 "cells": [
  {
   "cell_type": "markdown",
   "id": "77e7b00f",
   "metadata": {},
   "source": [
    "Chapter 4 - Lotka-Volterra Competition\n",
    "- Algorithm to calculate 2 seperate species to visualize interspecific competition"
   ]
  },
  {
   "cell_type": "code",
   "execution_count": null,
   "id": "494f2e39",
   "metadata": {},
   "outputs": [],
   "source": [
    "def NandM_population():\n",
    "    # growth model\n",
    "    # Save N_values into a list\n",
    "    N_values = [N_0]\n",
    "    # Save initial population\n",
    "    current_N = N_0\n",
    "    for _ in range(time):\n",
    "        current_N = current_N + p * current_N\n",
    "        # Round to 3 decimal places\n",
    "        current_N = round(current_N, 3)\n",
    "        N_values.append(current_N)\n",
    "    return N_values"
   ]
  }
 ],
 "metadata": {
  "language_info": {
   "name": "python"
  }
 },
 "nbformat": 4,
 "nbformat_minor": 5
}
