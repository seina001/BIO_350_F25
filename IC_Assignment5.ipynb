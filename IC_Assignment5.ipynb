{
 "cells": [
  {
   "cell_type": "code",
   "execution_count": 1,
   "id": "13fdd7f7",
   "metadata": {},
   "outputs": [],
   "source": [
    "#Import matplotlib library\n",
    "import matplotlib.pyplot as plt\n"
   ]
  },
  {
   "cell_type": "code",
   "execution_count": null,
   "id": "751fa667",
   "metadata": {},
   "outputs": [],
   "source": [
    "#Create a function that takes initial S, I, R, beta, death rate, and time as inputs\n",
    "def SIR_model(S0, I0, R0, beta, d_rate, time):\n",
    "    #Import the variables given to the function\n",
    "    #......\n",
    "    #For loop to go through time period\n",
    "    #......\n",
    "    return #3 variables seperated by comma"
   ]
  },
  {
   "cell_type": "code",
   "execution_count": null,
   "id": "72f445ed",
   "metadata": {},
   "outputs": [],
   "source": [
    "#Call the SIR_model and give it S0, I0, R0, beta, d_rate, time and save them into 3 variables (S_list, I_list, R_list)"
   ]
  },
  {
   "cell_type": "code",
   "execution_count": null,
   "id": "f4253853",
   "metadata": {},
   "outputs": [],
   "source": [
    "#Plot them"
   ]
  }
 ],
 "metadata": {
  "kernelspec": {
   "display_name": "IC_Assignments",
   "language": "python",
   "name": "python3"
  },
  "language_info": {
   "codemirror_mode": {
    "name": "ipython",
    "version": 3
   },
   "file_extension": ".py",
   "mimetype": "text/x-python",
   "name": "python",
   "nbconvert_exporter": "python",
   "pygments_lexer": "ipython3",
   "version": "3.13.5"
  }
 },
 "nbformat": 4,
 "nbformat_minor": 5
}
