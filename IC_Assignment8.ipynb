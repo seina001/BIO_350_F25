{
 "cells": [
  {
   "cell_type": "markdown",
   "id": "f2f84b53",
   "metadata": {},
   "source": [
    "Creating a program/function that can answer the following questions from Ch. 7 in Handbook of Q. Ecology.\n",
    "- Program that takes input and answers the following questions\n",
    "    - Probability we will find 2 eggs in 1st nest we check?\n",
    "    - Probability team will get 3 nests in a row with 1 egg?\n",
    "    - Average nr. of eggs per nest?"
   ]
  },
  {
   "cell_type": "markdown",
   "id": "f37e4ff1",
   "metadata": {},
   "source": [
    "- Finally, be able to adjust the input parameters.\n",
    "    - Such as how many nests with 1/2/3 eggs\n",
    "    - How many nests in a row with 1 egg\n"
   ]
  },
  {
   "cell_type": "code",
   "execution_count": null,
   "id": "a3090d95",
   "metadata": {},
   "outputs": [],
   "source": [
    "def eagle_nest_analysis(one_egg_nest_counts, two_egg_nest_counts, three_egg_nest_counts, how_many_nests_in_a_row_with_1_egg):\n",
    "\n",
    "    \"\"\"\n",
    "    Function that calculates and returns the following answers printed:\n",
    "    1. Probability we will find 2 eggs in 1st nest\n",
    "    2. Probability we will get N nests in a row with 1 egg\n",
    "    3. Average nr. of eggs per nest\n",
    "    \n",
    "    Parameters:\n",
    "    one_egg_nest_counts (int): Number of nests with 1 egg\n",
    "    two_egg_nest_counts (int): Number of nests with 2 eggs\n",
    "    three_egg_nest_counts (int): Number of nests with 3 eggs\n",
    "    how_many_nests_in_a_row_with_1_egg (int): Number of nests in a row with 1 egg\n",
    "    Returns:\n",
    "    None\n",
    "    \"\"\"\n",
    "\n",
    "    # Calculate total numbers of nests\n",
    "    # Calcluate proabability of finding 1, 2, or 3 eggs in a nest\n",
    "    # Answer the questions above and print the results\n",
    "\n",
    "    # Lets say we have a variable called Average_nr_eggs_per_nest\n",
    "    print(f\"Average number of eggs per nest: {Average_nr_eggs_per_nest}\")\n",
    "\n",
    "    return None\n"
   ]
  },
  {
   "cell_type": "code",
   "execution_count": null,
   "id": "cd452cdd",
   "metadata": {},
   "outputs": [],
   "source": []
  }
 ],
 "metadata": {
  "language_info": {
   "name": "python"
  }
 },
 "nbformat": 4,
 "nbformat_minor": 5
}
