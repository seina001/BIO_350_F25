{
 "cells": [
  {
   "cell_type": "markdown",
   "id": "10e886f6",
   "metadata": {},
   "source": [
    "- Import example data (or make it up using code developed by you or with AI, just explain it then)\n",
    "    - Example choices:\n",
    "        - Binomial\n",
    "        - Poisson\n",
    "        - Negative binomial\n",
    "        - Normal\n",
    "        - Log-Normal"
   ]
  },
  {
   "cell_type": "markdown",
   "id": "2a17f87b",
   "metadata": {},
   "source": [
    "Plot the data showing the frequency of your data, with the probability density on the y axis"
   ]
  },
  {
   "cell_type": "markdown",
   "id": "726ac5ad",
   "metadata": {},
   "source": []
  }
 ],
 "metadata": {
  "language_info": {
   "name": "python"
  }
 },
 "nbformat": 4,
 "nbformat_minor": 5
}
