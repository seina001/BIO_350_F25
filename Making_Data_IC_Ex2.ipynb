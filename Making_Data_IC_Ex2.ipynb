{
 "cells": [
  {
   "cell_type": "code",
   "execution_count": null,
   "id": "dee89aec",
   "metadata": {
    "vscode": {
     "languageId": "plaintext"
    }
   },
   "outputs": [],
   "source": [
    "#Change N_Exp to N_exp2 and have 3 conditions based on N_0\n",
    "#If N_0 < 500, p = 0.4\n",
    "#If N_0 >= 500 and N_0 < 1000, p = 0.2\n",
    "#If N_0 >= 1000, p = 0\n",
    "\n",
    "def N_exp2(N_0, time):\n",
    "    # Exponential growth model with variable p based on N_0\n",
    "    # Save N_values into a list\n",
    "    N_values = [N_0]\n",
    "    # Save initial population\n",
    "    current_N = N_0\n",
    "    for _ in range(time):\n",
    "        if current_N < 500:\n",
    "            p = 0.4\n",
    "        elif 500 <= current_N < 1000:\n",
    "            p = 0.2\n",
    "        else:\n",
    "            p = 0\n",
    "        current_N = current_N + p * current_N\n",
    "        # Round to 3 decimal places\n",
    "        current_N = round(current_N, 3)\n",
    "        N_values.append(current_N)\n",
    "    return N_values\n"
   ]
  }
 ],
 "metadata": {
  "language_info": {
   "name": "python"
  }
 },
 "nbformat": 4,
 "nbformat_minor": 5
}
