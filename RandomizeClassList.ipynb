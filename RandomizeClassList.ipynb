{
 "cells": [
  {
   "cell_type": "code",
   "execution_count": null,
   "id": "08ff3f83",
   "metadata": {},
   "outputs": [],
   "source": [
    "import random\n",
    "\n",
    "names_350001 = [\"Brad\",\"Madi\",\"Enya\",\"Cassidy\",\"Alexander\",\"Cade\",\"Joe\",\"Josue\",\"Clare\",\"Seth\",\"David\",\"Erin\",\"Emma\"]\n",
    "\n",
    "\n",
    "randomness_seed = int(input(\"Enter a number to increase randomness (0-100): \"))\n",
    "\n",
    "random.seed(randomness_seed)\n",
    "random.shuffle(names_350001)"
   ]
  }
 ],
 "metadata": {
  "language_info": {
   "name": "python"
  }
 },
 "nbformat": 4,
 "nbformat_minor": 5
}
