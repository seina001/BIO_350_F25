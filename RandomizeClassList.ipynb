{
 "cells": [
  {
   "cell_type": "code",
   "execution_count": 2,
   "id": "08ff3f83",
   "metadata": {},
   "outputs": [
    {
     "name": "stdout",
     "output_type": "stream",
     "text": [
      "Cade: 09:20\n",
      "Clare: 09:30\n",
      "Seth: 09:40\n",
      "Erin: 09:50\n",
      "Joe: 10:00\n",
      "Brad: 10:10\n",
      "Josue: 10:20\n",
      "David: 10:30\n",
      "Emma: 10:40\n",
      "Alexander: 10:50\n",
      "Enya: 11:00\n",
      "Cassidy: 11:10\n",
      "Madi: 11:20\n"
     ]
    }
   ],
   "source": [
    "from datetime import datetime, timedelta\n",
    "\n",
    "# Remove Enya and Clare from the first slot\n",
    "first_slot_candidates = [name for name in names_350001 if name not in ['Enya', 'Clare']]\n",
    "first_name = first_slot_candidates[0]\n",
    "\n",
    "# Prepare the order: first slot, then the rest (keeping original shuffled order)\n",
    "remaining_names = [name for name in names_350001 if name != first_name]\n",
    "ordered_names = [first_name] + remaining_names\n",
    "\n",
    "# Assign times\n",
    "start_time = datetime.strptime(\"09:20\", \"%H:%M\")\n",
    "schedule = []\n",
    "for i, name in enumerate(ordered_names):\n",
    "    # If Enya or Clare is in the first slot, skip to next available\n",
    "    slot_time = start_time + timedelta(minutes=10 * i)\n",
    "    schedule.append((name, slot_time.strftime(\"%H:%M\")))\n",
    "\n",
    "for name, time in schedule:\n",
    "    print(f\"{name}: {time}\")"
   ]
  },
  {
   "cell_type": "code",
   "execution_count": null,
   "id": "5fb72577",
   "metadata": {},
   "outputs": [],
   "source": []
  }
 ],
 "metadata": {
  "kernelspec": {
   "display_name": "IC_Assignments",
   "language": "python",
   "name": "python3"
  },
  "language_info": {
   "codemirror_mode": {
    "name": "ipython",
    "version": 3
   },
   "file_extension": ".py",
   "mimetype": "text/x-python",
   "name": "python",
   "nbconvert_exporter": "python",
   "pygments_lexer": "ipython3",
   "version": "3.13.5"
  }
 },
 "nbformat": 4,
 "nbformat_minor": 5
}
